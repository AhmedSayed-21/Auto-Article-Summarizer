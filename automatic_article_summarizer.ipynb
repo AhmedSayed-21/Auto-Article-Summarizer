{
  "cells": [
    {
      "cell_type": "code",
      "execution_count": null,
      "metadata": {
        "id": "ufpC-2i48iys"
      },
      "outputs": [],
      "source": []
    },
    {
      "cell_type": "code",
      "execution_count": null,
      "metadata": {
        "id": "PFIFwoTph-B-"
      },
      "outputs": [],
      "source": [
        "!pip install transformers datasets accelerate peft\n"
      ]
    },
    {
      "cell_type": "code",
      "execution_count": null,
      "metadata": {
        "id": "cWBkme19jJ-s"
      },
      "outputs": [],
      "source": [
        "import torch\n",
        "from transformers import (\n",
        "    AutoTokenizer,\n",
        "    AutoModelForSeq2SeqLM,\n",
        "    DataCollatorForSeq2Seq,\n",
        "    Seq2SeqTrainingArguments,\n",
        "    Seq2SeqTrainer,\n",
        ")\n",
        "from datasets import load_dataset\n",
        "from peft import LoraConfig, get_peft_model\n",
        "import os\n",
        "\n",
        "device = \"cuda\" if torch.cuda.is_available() else \"cpu\"\n",
        "print(f\"Using device: {device}\")"
      ]
    },
    {
      "cell_type": "code",
      "execution_count": null,
      "metadata": {
        "id": "ug_ybCJCjx0r"
      },
      "outputs": [],
      "source": [
        "raw_ds = load_dataset(\"cnn_dailymail\", \"3.0.0\")\n",
        "train_ds = raw_ds[\"train\"].shuffle(seed=42).select(range(5000))\n",
        "val_ds   = raw_ds[\"validation\"].shuffle(seed=42).select(range(500))\n"
      ]
    },
    {
      "cell_type": "code",
      "execution_count": null,
      "metadata": {
        "id": "RjFlpEy-kv4s"
      },
      "outputs": [],
      "source": [
        "model_name = \"sshleifer/distilbart-cnn-12-6\"\n",
        "tokenizer  = AutoTokenizer.from_pretrained(model_name)\n",
        "model      = AutoModelForSeq2SeqLM.from_pretrained(model_name).to(device)\n"
      ]
    },
    {
      "cell_type": "code",
      "execution_count": null,
      "metadata": {
        "id": "ORHfONYsl7Ry"
      },
      "outputs": [],
      "source": [
        "peft_config = LoraConfig(\n",
        "    task_type=\"SEQ_2_SEQ_LM\",\n",
        "    inference_mode=False,\n",
        "    r=8,\n",
        "    lora_alpha=32,\n",
        "    lora_dropout=0.05\n",
        ")\n",
        "model = get_peft_model(model, peft_config)\n"
      ]
    },
    {
      "cell_type": "code",
      "execution_count": null,
      "metadata": {
        "id": "t4EANFDImJVq"
      },
      "outputs": [],
      "source": [
        "data_collator = DataCollatorForSeq2Seq(tokenizer, model=None)\n",
        "\n",
        "def preprocess(batch):\n",
        "    inputs = tokenizer(batch[\"article\"], truncation=True, padding=\"max_length\", max_length=512)\n",
        "    with tokenizer.as_target_tokenizer():\n",
        "        targets = tokenizer(batch[\"highlights\"], truncation=True, padding=\"max_length\", max_length=128)\n",
        "    inputs[\"labels\"] = targets[\"input_ids\"]\n",
        "    return inputs\n",
        "\n",
        "train_tok = train_ds.map(preprocess, batched=True, remove_columns=train_ds.column_names)\n",
        "val_tok   = val_ds.map(preprocess, batched=True, remove_columns=val_ds.column_names)\n"
      ]
    },
    {
      "cell_type": "code",
      "execution_count": null,
      "metadata": {
        "id": "SYpyLzhOnfmH"
      },
      "outputs": [],
      "source": [
        "training_args = Seq2SeqTrainingArguments(\n",
        "    output_dir=\"./summarizer_lora\",\n",
        "    per_device_train_batch_size=4,\n",
        "    per_device_eval_batch_size=4,\n",
        "    gradient_accumulation_steps=1,\n",
        "    eval_accumulation_steps=1,\n",
        "    predict_with_generate=True,\n",
        "    fp16=True,\n",
        "    logging_steps=100,\n",
        "    # evaluation_strategy=\"steps\",\n",
        "    eval_steps=200,\n",
        "    save_steps=500,\n",
        "    num_train_epochs=3,\n",
        "    learning_rate=3e-4,\n",
        "    weight_decay=0.01,\n",
        "    save_total_limit=2,\n",
        "\n",
        "    report_to=\"none\",\n",
        ")\n"
      ]
    },
    {
      "cell_type": "code",
      "execution_count": null,
      "metadata": {
        "id": "onmDhHrSo3kk"
      },
      "outputs": [],
      "source": [
        "trainer = Seq2SeqTrainer(\n",
        "    model=model,\n",
        "    args=training_args,\n",
        "    train_dataset=train_tok,\n",
        "    eval_dataset=val_tok,\n",
        "    data_collator=data_collator,\n",
        "    tokenizer=tokenizer,\n",
        ")\n",
        "trainer.train()\n"
      ]
    },
    {
      "cell_type": "code",
      "execution_count": null,
      "metadata": {
        "id": "k_onmOSjvKmv"
      },
      "outputs": [],
      "source": [
        "model.save_pretrained(\"./summarizer_lora_final\")"
      ]
    },
    {
      "cell_type": "code",
      "execution_count": null,
      "metadata": {
        "id": "LbmYTuX6vnI9"
      },
      "outputs": [],
      "source": [
        "from transformers import pipeline\n",
        "\n",
        "summarizer = pipeline(\n",
        "    \"summarization\",\n",
        "    model=\"./summarizer_lora_final\",\n",
        "    tokenizer=tokenizer,\n",
        "    device=0 if torch.cuda.is_available() else -1\n",
        ")\n"
      ]
    },
    {
      "cell_type": "code",
      "execution_count": null,
      "metadata": {
        "id": "9Iq_NFrMvzsQ"
      },
      "outputs": [],
      "source": [
        "\n",
        "article = \"\"\"\n",
        "The Ministry of Health announced today the launch of a nationwide vaccination campaign aiming to immunize over 20 million children against measles and rubella within the next six months. This ambitious effort is part of the government’s broader public health initiative to eradicate preventable infectious diseases and strengthen primary healthcare services across all governorates.\n",
        "\n",
        "According to Dr. Sarah Mitchell, Director of the National Immunization Program, the campaign will deploy mobile clinics to reach remote and underserved communities, ensuring that children in rural areas have equal access to vaccines. The program also includes training sessions for over 5,000 healthcare workers on cold-chain management and community engagement strategies to address vaccine hesitancy.\n",
        "\n",
        "Financial support for the campaign comes from a partnership between the Ministry of Health, UNICEF, and the World Health Organization, with an estimated budget of USD 85 million. UNICEF’s regional director, Mr. Ahmed Saleh, emphasized the importance of collaboration between international agencies and local authorities to ensure the smooth distribution of vaccine supplies and the monitoring of adverse events following immunization.\n",
        "\n",
        "Pilot operations have already begun in three governorates, with preliminary reports indicating high turnout rates and positive community feedback. The Ministry plans to roll out the full campaign next week, launching an extensive media outreach program that includes radio spots, social media engagement, and school-based informational seminars.\n",
        "\n",
        "Officials predict that by achieving at least a 95% coverage rate, the campaign will help the country maintain its polio-free status and pave the way for future public health achievements, including the integration of routine childhood vaccines into digital health records. The success of this campaign is seen as a critical step toward meeting the Sustainable Development Goal of ensuring healthy lives for all by 2030.\n",
        "\"\"\"\n",
        "\n",
        "print(\"=== Summary: ===\")\n",
        "print(\n",
        "    summarizer(\n",
        "        article,\n",
        "        max_length=150,\n",
        "        min_length=40,\n",
        "        do_sample=False\n",
        "    )[0][\"summary_text\"]\n",
        ")"
      ]
    },
    {
      "cell_type": "code",
      "execution_count": null,
      "metadata": {
        "id": "vrpH4FwdyITs"
      },
      "outputs": [],
      "source": [
        "\n",
        "\n",
        "from transformers import pipeline\n",
        "\n",
        "summarizer_cpu = pipeline(\n",
        "    \"summarization\",\n",
        "    model=\"./summarizer_lora_final\",\n",
        "    tokenizer=tokenizer,\n",
        "    device= -1\n",
        ")\n",
        "\n",
        "\n",
        "# === Very Large Article ===\n",
        "article = \"\"\"\n",
        "Artificial Intelligence (AI) has rapidly evolved from a futuristic concept in science fiction to a pivotal technology transforming industries, societies, and personal lives. The 21st century has witnessed unprecedented developments in AI capabilities, from machine learning and natural language processing to robotics and computer vision. This article delves into the evolution of AI, its current applications, challenges, and its projected impact on the future.\n",
        "\n",
        "**Historical Context and Evolution**\n",
        "\n",
        "The term \"Artificial Intelligence\" was first coined in 1956 by John McCarthy at the Dartmouth Conference, where researchers gathered to explore ways to make machines simulate human intelligence. Early AI systems focused on rule-based logic, which limited their capabilities. It wasn't until the rise of computational power and access to large datasets that AI started making significant strides.\n",
        "\n",
        "In the 1980s and 1990s, expert systems attempted to mimic decision-making of human specialists, but they lacked adaptability. The 2000s marked a turning point with the resurgence of neural networks and the birth of deep learning. Algorithms could now \"learn\" from data rather than being explicitly programmed.\n",
        "\n",
        "**Key Breakthroughs**\n",
        "\n",
        "Several key breakthroughs accelerated AI’s development. The introduction of convolutional neural networks (CNNs) allowed AI systems to excel in image recognition tasks. Recurrent neural networks (RNNs) and later transformers revolutionized natural language processing, leading to models capable of real-time language translation, summarization, and conversation.\n",
        "\n",
        "In 2012, the ImageNet competition was won by a deep learning model that vastly outperformed others in image classification, cementing the utility of deep learning. By 2018, OpenAI’s GPT series and Google’s BERT demonstrated the power of large language models, capable of human-like text generation.\n",
        "\n",
        "**Applications Across Industries**\n",
        "\n",
        "Today, AI applications span almost every industry:\n",
        "\n",
        "- **Healthcare**: AI aids in disease diagnosis, drug discovery, and patient monitoring. Algorithms analyze medical images, predict patient deterioration, and assist in robotic surgeries.\n",
        "- **Finance**: AI powers fraud detection, algorithmic trading, and customer service chatbots. Machine learning models assess credit risk and automate compliance.\n",
        "- **Retail**: From personalized recommendations to supply chain optimization, AI transforms customer experience and inventory management.\n",
        "- **Transportation**: Autonomous vehicles, route optimization, and predictive maintenance are driven by AI algorithms.\n",
        "- **Education**: Adaptive learning platforms personalize education, while AI grading systems reduce administrative load on educators.\n",
        "- **Entertainment**: AI curates personalized content on streaming platforms, generates music, and even writes screenplays.\n",
        "\n",
        "**AI in Daily Life**\n",
        "\n",
        "Beyond industry, AI pervades everyday life. Voice assistants like Siri and Alexa understand and respond to voice commands. Social media platforms use AI to filter content, detect harmful posts, and serve personalized ads. Smartphones use AI in cameras, keyboards, and battery management.\n",
        "\n",
        "**Ethical Concerns and Challenges**\n",
        "\n",
        "Despite its promise, AI raises several concerns:\n",
        "\n",
        "- **Bias and Fairness**: AI models trained on biased data can perpetuate and amplify discrimination in hiring, lending, and law enforcement.\n",
        "- **Privacy**: Surveillance systems and data-driven models often infringe on individual privacy rights.\n",
        "- **Job Displacement**: Automation threatens to displace workers in manufacturing, customer service, and even white-collar roles.\n",
        "- **Autonomy and Accountability**: As AI systems make more autonomous decisions, questions arise over who is responsible for errors or harm caused by these systems.\n",
        "\n",
        "Efforts are underway to make AI more transparent, interpretable, and accountable. Governments and organizations are developing ethical frameworks and regulatory policies to ensure responsible AI development.\n",
        "\n",
        "**The Future of AI**\n",
        "\n",
        "AI is expected to further integrate into human life, with advances in general intelligence, where machines might learn and reason across multiple domains like humans. Quantum computing may exponentially increase AI capabilities, enabling real-time simulations of complex systems in healthcare, climate, and physics.\n",
        "\n",
        "Emerging fields like neuro-symbolic AI aim to combine the learning ability of neural networks with logical reasoning, bringing us closer to explainable AI. Human-AI collaboration will redefine workplaces, education, and creativity.\n",
        "\n",
        "**Conclusion**\n",
        "\n",
        "Artificial Intelligence is no longer a distant dream but a present reality shaping every aspect of modern life. Its potential is vast, but so are its challenges. Navigating the future of AI requires a balance between innovation and ethics, automation and employment, efficiency and equity. As we stand at the cusp of a new era, the way we guide AI development will determine whether it becomes humanity’s greatest tool or its most formidable challenge.\n",
        "\"\"\"\n",
        "\n",
        "article2 = \"\"\"\n",
        "Artificial Intelligence (AI) has rapidly evolved from a futuristic concept in science fiction to a pivotal technology transforming industries, societies, and personal lives. The 21st century has witnessed unprecedented developments in AI capabilities, from machine learning and natural language processing to robotics and computer vision. This article delves into the evolution of AI, its current applications, challenges, and its projected impact on the future.\n",
        "\n",
        "**Historical Context and Evolution**\n",
        "\n",
        "The term \"Artificial Intelligence\" was first coined in 1956 by John McCarthy at the Dartmouth Conference, where researchers gathered to explore ways to make machines simulate human intelligence. Early AI systems focused on rule-based logic, which limited their capabilities. It wasn't until the rise of computational power and access to large datasets that AI started making significant strides.\n",
        "\n",
        "In the 1980s and 1990s, expert systems attempted to mimic decision-making of human specialists, but they lacked adaptability. The 2000s marked a turning point with the resurgence of neural networks and the birth of deep learning. Algorithms could now \"learn\" from data rather than being explicitly programmed.\n",
        "\n",
        "**Key Breakthroughs**\n",
        "\n",
        "Several key breakthroughs accelerated AI’s development. The introduction of convolutional neural networks (CNNs) allowed AI systems to excel in image recognition tasks. Recurrent neural networks (RNNs) and later transformers revolutionized natural language processing, leading to models capable of real-time language translation, summarization, and conversation.\n",
        "\n",
        "In 2012, the ImageNet competition was won by a deep learning model that vastly outperformed others in image classification, cementing the utility of deep learning. By 2018, OpenAI’s GPT series and Google’s BERT demonstrated the power of large language models, capable of human-like text generation.\n",
        "\n",
        "**Applications Across Industries**\n",
        "\n",
        "Today, AI applications span almost every industry:\n",
        "\n",
        "- **Healthcare**: AI aids in disease diagnosis, drug discovery, and patient monitoring. Algorithms analyze medical images, predict patient deterioration, and assist in robotic surgeries.\n",
        "\"\"\"\n",
        "\n",
        "# === Zero-shot Prompt ===\n",
        "zero_shot_prompt = (\n",
        "    \"Summarize the following article into key points:\\n\\n\"\n",
        "    + article\n",
        "    + \"\\n\\nSummary:\"\n",
        ")\n",
        "example = (\n",
        "    \"Example:\\n\"\n",
        "    \"Article: Artificial Intelligence has rapidly evolved in the 21st century. It is now used in many industries including healthcare and finance.\\n\"\n",
        "    \"Summary: AI has evolved quickly and is now used across multiple industries.\\n\\n\"\n",
        ")\n",
        "\n",
        "# === Few-shot Prompt ===\n",
        "few_shot_prompt = (\n",
        "    example +\n",
        "    \"Now summarize the following article into key points:\\n\\n\" +\n",
        "    article2 +\n",
        "    \"\\n\\nSummary:\"\n",
        ")\n",
        "\n",
        "def clean_prompt(text):\n",
        "    return text.replace('\\n', ' ').replace('\\r', ' ').strip()\n",
        "\n",
        "# zero_shot_prompt = clean_prompt(zero_shot_prompt)[:3500]\n",
        "# few_shot_prompt = clean_prompt(few_shot_prompt)[:3500]\n",
        "\n",
        "# === Generate summaries ===\n",
        "print(\"=== Zero-shot Summary ===\")\n",
        "zero_result = summarizer_cpu(zero_shot_prompt, max_length=150, min_length=40, do_sample=False)\n",
        "print(zero_result[0][\"summary_text\"])\n",
        "\n",
        "print(\"\\n=== Few-shot Summary ===\")\n",
        "few_result = summarizer_cpu(few_shot_prompt, max_length=150, min_length=40, do_sample=False)\n",
        "print(few_result[0][\"summary_text\"]\n",
        ")\n",
        "\n"
      ]
    }
  ],
  "metadata": {
    "accelerator": "GPU",
    "colab": {
      "gpuType": "T4",
      "provenance": []
    },
    "kernelspec": {
      "display_name": "Python 3",
      "name": "python3"
    },
    "language_info": {
      "name": "python"
    }
  },
  "nbformat": 4,
  "nbformat_minor": 0
}